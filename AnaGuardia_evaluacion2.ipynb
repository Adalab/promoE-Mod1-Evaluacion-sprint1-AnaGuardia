{
 "cells": [
  {
   "attachments": {},
   "cell_type": "markdown",
   "metadata": {},
   "source": [
    "En esta evaluación tendremos que crearnos una clase. Estamos trabajando para una editorial y tienen muchos ficheros de tipo .txt. Quieren hacer un estudio de palabras de los textos que tienen, para ello nos piden que nos creemos una clase que:\n",
    "\n",
    "- Reciba dos parámetros en el método constructor: \n",
    "\n",
    "    - La ruta donde se encuentra el fichero\n",
    "    - El nombre y la extensión del fichero que quieren abrir. \n",
    "\n",
    "- Tenga un método que nos abra el fichero en python, como un único *string*. Este método tiene que ser capaz de abrir cualquier tipo de fichero y que este ubicado en cualquier ubicación de nuestros ordenadores. \n",
    "\n",
    "- Tenga un método que lea un número \"X\" de palabras del texto. En este caso, el número de palabras que queremos leer debe ser un parámetro de este método. En este código deberemos incluir:\n",
    "    - Que si nos pasan como valor de número de palabras un número que no sea *integer*, nos salga un mensaje por pantalla que nos avise que la operación no se pueden hacer ya que necesitamos que sea un número *integer*. \n",
    "\n",
    "- Similar que en el paso anterior, crea un método que nos permita leer \"X\" lineas del texto. En este caso, el número de lineas que quiere leer el usuario no debe ser un parámetro del método. Tendremos que:\n",
    "\n",
    "    - Crear un *input* en el método que le pregunte al usuario cuántas líneas quiere leer\n",
    "\n",
    "    - Que tenga un control de errores por si el valor que nos pasa el usuario no es correcto, como por ejemplo un valor decimal. \n",
    "\n",
    "    - Además tenemos que tener en cuenta en el código que puede que el usuario quiera leer todas las líneas del archivo. Incluye en el programa el código necesario para que si el usuario nos indica que quiere leer todas las líneas el programa lo pueda hacer.  \n",
    "\n",
    "    **BONUS** En vez de devolver el resultado como una lista de *string* devuelvelo como un único *string*. \n",
    "\n",
    "- En este punto de la evaluación ya os habréis dado cuenta que en este fichero las primeras lineas no corresponden al quijote. Pero entonces... ¿en qué punto empieza el libro del quijote? En concreto, el libro está comprendido entre la lineas 1780 y 74276. Crea un método que solo nos devuelva el contenido del libro, sin la introducción inicial. \n",
    "\n",
    "\n",
    "-  Crea un último método en la clase que nos permita extraer las veces que aparece determinada palabra en el libro. Para eso este método deberá: \n",
    "\n",
    "    - Recibir la palabra o palabras que quiere buscar el usuario en el texto. \n",
    "    - Devolver el número de veces que aparece dicha palabra. \n",
    "    - Para confirmar que vuestro código, deberéis buscar las siguientes palabras como ejemplos de este método: \n",
    "\n",
    "        - Quijote, debemos tener en cuenta que aparezca en mayúscula o en minúscula, es decir, \"Quijote\" o \"quijote\"\n",
    "\n",
    "        - Alonso,  debemos tener en cuenta que aparezca en mayúscula o en minúscula, es decir, \"Quijote\" o \"quijote\"\n",
    "\n",
    "        - Don Quijote, debemos tener en cuenta que aparezca en mayúscula o en minúscula, es decir, \"Quijote\" o \"quijote\"\n",
    "    \n",
    "- **Nota**: Puede que tengáis algunos problemas para abrir el fichero, esto es por el `encoding` que tiene. Para solucionar este problema deberéis usar un encoding = \"latin-1\"\n",
    "\n",
    "- **Nota**: El fichero de `quijote.txt` debe encontrarse en una carpeta llamada `data`, diferente de donde se encuentra este fichero jupyter con la resolución."
   ]
  },
  {
   "cell_type": "code",
   "execution_count": 30,
   "metadata": {},
   "outputs": [],
   "source": [
    "import os"
   ]
  },
  {
   "cell_type": "code",
   "execution_count": 3,
   "metadata": {},
   "outputs": [
    {
     "data": {
      "text/plain": [
       "'/mnt/c/Users/anane/ADALAB/promoE-Mod1-Evaluacion-sprint1-AnaGuardia'"
      ]
     },
     "execution_count": 3,
     "metadata": {},
     "output_type": "execute_result"
    }
   ],
   "source": [
    "os.getcwd() #compruebo cual es mi carpeta de trabajo"
   ]
  },
  {
   "cell_type": "code",
   "execution_count": 4,
   "metadata": {},
   "outputs": [
    {
     "name": "stdout",
     "output_type": "stream",
     "text": [
      "['.git', 'AnaGuardia_evaluacion2.ipynb', 'Evaluacion2_SQL_AnaGuardia.sql', 'evaluacion_python_1.ipynb', 'Evaluacion_sql_Ana_Guardia.sql']\n"
     ]
    }
   ],
   "source": [
    "print(os.listdir()) "
   ]
  },
  {
   "cell_type": "code",
   "execution_count": 6,
   "metadata": {},
   "outputs": [],
   "source": [
    "os.chdir(\"/mnt/c/Users/anane/ADALAB\")"
   ]
  },
  {
   "cell_type": "code",
   "execution_count": 7,
   "metadata": {},
   "outputs": [],
   "source": [
    "os.chdir(\"/mnt/c/Users/anane/ADALAB/PYTHON\")"
   ]
  },
  {
   "cell_type": "code",
   "execution_count": 8,
   "metadata": {},
   "outputs": [],
   "source": [
    "os.chdir(\"/mnt/c/Users/anane/ADALAB/PYTHON/DATA\") #Ya he llegado a la carpeta que quiero"
   ]
  },
  {
   "cell_type": "code",
   "execution_count": 9,
   "metadata": {},
   "outputs": [
    {
     "name": "stdout",
     "output_type": "stream",
     "text": [
      "['quijote.txt']\n"
     ]
    }
   ],
   "source": [
    "print(os.listdir()) #compruebo si el archivo está efectivamente en la carpeta"
   ]
  },
  {
   "cell_type": "code",
   "execution_count": 1,
   "metadata": {},
   "outputs": [],
   "source": [
    "#Clase que reciba 2 parametros en el método constructor:\n",
    "# ruta fichero y el nombre + extensión del fichero que quieren abrir\n",
    "\n",
    "\n",
    "class Estudio_palabras:\n",
    "     \n",
    "     def __init__(self,ruta_fichero,nombre_fichero ): # definimos la clase con los 2 parámetros\n",
    "          self.ruta_fichero = ruta_fichero\n",
    "          self.nombre_fichero = nombre_fichero\n",
    "          \n",
    "          \n",
    "    \n",
    "          \n",
    "          "
   ]
  },
  {
   "cell_type": "code",
   "execution_count": 2,
   "metadata": {},
   "outputs": [],
   "source": [
    "#PRUEBA\n",
    "archivo = Estudio_palabras(\"/mnt/c/Users/anane/ADALAB/PYTHON/DATA\", \"quijote.txt\")"
   ]
  },
  {
   "cell_type": "code",
   "execution_count": 31,
   "metadata": {},
   "outputs": [],
   "source": [
    "#Método que abra el fichero en python como único string, capaz de abrir cualquier tipo\n",
    "#de fichero, ubicado donde sea en nuestro ordenador\n",
    "\n",
    "class Estudio_palabras:\n",
    "     \n",
    "  def __init__(self,ruta_fichero,nombre_fichero ): # definimos la clase con los 2 parámetros\n",
    "            self.ruta_fichero = ruta_fichero\n",
    "            self.nombre_fichero = nombre_fichero\n",
    "\n",
    "  def abrir_fichero(self):\n",
    "    \n",
    "           \n",
    "            \n",
    "            ruta_completa = os.path.join(\"/mnt/c/Users/anane/ADALAB/PYTHON/DATA/quijote.txt\", \"quijote.txt\")\n",
    "            \n",
    "            try: \n",
    "                with open(ruta_completa, encoding = \"latin-1\", mode = \"r\") as archivo:\n",
    "                  lectura_fichero = archivo.read()\n",
    "                  return lectura_fichero\n",
    "                    \n",
    "            except FileNotFoundError:\n",
    "              return \"El archivo no existe.\"\n",
    "            except IOError:\n",
    "              return \"No se puede abrir el archivo.\"\n",
    "            \n",
    "          "
   ]
  },
  {
   "cell_type": "code",
   "execution_count": 32,
   "metadata": {},
   "outputs": [],
   "source": [
    "archivo = Estudio_palabras(\"/mnt/c/Users/anane/ADALAB/PYTHON/DATA\", \"quijote.txt\")"
   ]
  },
  {
   "cell_type": "code",
   "execution_count": 33,
   "metadata": {},
   "outputs": [
    {
     "data": {
      "text/plain": [
       "'No se puede abrir el archivo.'"
      ]
     },
     "execution_count": 33,
     "metadata": {},
     "output_type": "execute_result"
    }
   ],
   "source": [
    "#PRUEBA ABRIR FICHERO\n",
    "archivo.abrir_fichero()\n"
   ]
  },
  {
   "cell_type": "code",
   "execution_count": 15,
   "metadata": {},
   "outputs": [],
   "source": [
    "# Método que lea un numero X de palabras de texto, que será parametro del método + incluir:\n",
    "# si pasan un nº de palabras que NO sea integer, nos salte mensaje:\n",
    "# \" la operación no se puede hacer por que necesitamos que sea integer\"\n",
    "\n",
    "def leer_palabras(self,num_palabras):\n",
    "    \n",
    "        if not isinstance(num_palabras, int): # verificamos si es un número entero (integer)\n",
    "            return \"La operación no se puede hacer por que necesitamos que sea un numero entero\" # mensaje error\n",
    "        try:\n",
    "            contenido = self.abrir_fichero() # abrimos contenido archivo y lo asignamos a una variable\n",
    "            palabras = contenido.split() # dividimos contenido en PALABRAS y lo asignamos a una variable\n",
    "            return ' '.join(palabras[:num_palabras])\n",
    "        except Exception as error:\n",
    "            return str(error)\n",
    "     \n"
   ]
  },
  {
   "cell_type": "code",
   "execution_count": 18,
   "metadata": {},
   "outputs": [
    {
     "data": {
      "text/plain": [
       "'Project Gutenberg Etext of Don Quijote, by Cervantes, in Spanish'"
      ]
     },
     "execution_count": 18,
     "metadata": {},
     "output_type": "execute_result"
    }
   ],
   "source": [
    "archivo.leer_palabras(10)"
   ]
  },
  {
   "cell_type": "code",
   "execution_count": 17,
   "metadata": {},
   "outputs": [
    {
     "data": {
      "text/plain": [
       "'La operación no se puede hacer por que necesitamos que sea un numero entero'"
      ]
     },
     "execution_count": 17,
     "metadata": {},
     "output_type": "execute_result"
    }
   ],
   "source": [
    "\n",
    "\n",
    "archivo.leer_palabras(5.5)"
   ]
  },
  {
   "cell_type": "code",
   "execution_count": 45,
   "metadata": {},
   "outputs": [],
   "source": [
    "#Crear método que nos permita leer X líneas de texto y en este caso NO será un parámetro del método\n",
    "#Habrá que: - crear input en el método que le pregunte al usuario cuantas líneas quiere leer\n",
    "# - Control de errores por si el valor que pasa el usuario no es correcto (x ejemplo un num decimal)\n",
    "# - Puede que el usuario quiera leer todas las líneas del archivo, incluir programa necesario\n",
    "# para que si el usuario quiere leer todas las líneas el programa lo pueda hacer\n",
    "\n",
    "\n",
    "def leer_lineas(self):\n",
    "        contenido = self.abrir_fichero()\n",
    "        lineas = contenido.splitlines()\n",
    "\n",
    "        num_lineas = input(\"¿Cuántas líneas quieres leer? \")\n",
    "        try:\n",
    "            if num_lineas.lower() == 'todas las líneas':\n",
    "                return '\\n'.join(lineas) # union saltos de linea\n",
    "            else:\n",
    "                num_lineas = int(num_lineas) #si el usuario no escribe\"todas las lineas\" se intenta convertir el valor a int\n",
    "                return '\\n'.join(lineas[:num_lineas]) # si funciona se cogen las primeras lineas y se unen por los saltos de linea\n",
    "        except ValueError:         #control errores\n",
    "            return \"El número de líneas debe ser un número entero.\""
   ]
  },
  {
   "cell_type": "code",
   "execution_count": 46,
   "metadata": {},
   "outputs": [
    {
     "ename": "AttributeError",
     "evalue": "'Estudio_palabras' object has no attribute 'leer_lineas'",
     "output_type": "error",
     "traceback": [
      "\u001b[0;31m---------------------------------------------------------------------------\u001b[0m",
      "\u001b[0;31mAttributeError\u001b[0m                            Traceback (most recent call last)",
      "\u001b[0;32m/tmp/ipykernel_402/29960247.py\u001b[0m in \u001b[0;36m<module>\u001b[0;34m\u001b[0m\n\u001b[0;32m----> 1\u001b[0;31m \u001b[0marchivo\u001b[0m\u001b[0;34m.\u001b[0m\u001b[0mleer_lineas\u001b[0m\u001b[0;34m(\u001b[0m\u001b[0;34m)\u001b[0m\u001b[0;34m\u001b[0m\u001b[0;34m\u001b[0m\u001b[0m\n\u001b[0m",
      "\u001b[0;31mAttributeError\u001b[0m: 'Estudio_palabras' object has no attribute 'leer_lineas'"
     ]
    }
   ],
   "source": [
    "archivo.leer_lineas()\n"
   ]
  }
 ],
 "metadata": {
  "kernelspec": {
   "display_name": "Python 3",
   "language": "python",
   "name": "python3"
  },
  "language_info": {
   "codemirror_mode": {
    "name": "ipython",
    "version": 3
   },
   "file_extension": ".py",
   "mimetype": "text/x-python",
   "name": "python",
   "nbconvert_exporter": "python",
   "pygments_lexer": "ipython3",
   "version": "3.9.7"
  },
  "orig_nbformat": 4,
  "vscode": {
   "interpreter": {
    "hash": "31f2aee4e71d21fbe5cf8b01ff0e069b9275f58929596ceb00d14d90e3e16cd6"
   }
  }
 },
 "nbformat": 4,
 "nbformat_minor": 2
}
